{
 "cells": [
  {
   "cell_type": "markdown",
   "id": "2144c632",
   "metadata": {},
   "source": [
    "# Smart Device Automation\n",
    "Now that we have generated a complete set of APIs and web pages for PhotovoltaicMeasurement data, now we will build an OpenShift CustomResourceDefinition (CRD), Ansible Role, and Ansible Playbooks to easily deploy PhotovoltaicMeasurement smart devices, register the devices in the IoT Agent, update the entity data in the Context Broker, and send the same entity data to the Smart Village Platform so that we can visualize it. "
   ]
  },
  {
   "cell_type": "markdown",
   "id": "75a00608",
   "metadata": {},
   "source": [
    "## Install prerequisite operator-sdk\n",
    "\n",
    "Run the commands below to deploy the Operator SDK, for building new CRDs like PhotovoltaicMeasurement into our `smartvillage-operator``. "
   ]
  },
  {
   "cell_type": "code",
   "execution_count": null,
   "id": "07b2f6fa",
   "metadata": {
    "vscode": {
     "languageId": "shellscript"
    }
   },
   "outputs": [],
   "source": [
    "export ARCH=$(case $(uname -m) in x86_64) echo -n amd64 ;; aarch64) echo -n arm64 ;; *) echo -n $(uname -m) ;; esac)\n",
    "export OS=$(uname | awk '{print tolower($0)}')\n",
    "export OPERATOR_SDK_DL_URL=https://github.com/operator-framework/operator-sdk/releases/download/v1.33.0\n",
    "curl -o /tmp/operator-sdk_${OS}_${ARCH} -LO ${OPERATOR_SDK_DL_URL}/operator-sdk_${OS}_${ARCH}\n",
    "gpg --keyserver keyserver.ubuntu.com --recv-keys 052996E2A20B5C7E\n",
    "curl -LO ${OPERATOR_SDK_DL_URL}/checksums.txt\n",
    "curl -LO ${OPERATOR_SDK_DL_URL}/checksums.txt.asc\n",
    "gpg -u \"Operator SDK (release) <cncf-operator-sdk@cncf.io>\" --verify checksums.txt.asc\n",
    "grep operator-sdk_${OS}_${ARCH} checksums.txt | sha256sum -c -\n",
    "chmod +x /tmp/operator-sdk_${OS}_${ARCH} && mv /tmp/operator-sdk_${OS}_${ARCH} ~/.local/bin/operator-sdk\n"
   ]
  },
  {
   "cell_type": "markdown",
   "id": "3d923025",
   "metadata": {},
   "source": [
    "## Install python dependencies\n",
    "An IoT Agent expects Entity Data from all Smart Data Models to be sent through a message broker like RabbitMQ. We install `pika` so that messages can be sent to RabbitMQ to register new PhotovoltaicMeasurement Smart Devices and update Smart Device entity data. "
   ]
  },
  {
   "cell_type": "code",
   "execution_count": null,
   "id": "6cfdf7d4",
   "metadata": {
    "vscode": {
     "languageId": "shellscript"
    }
   },
   "outputs": [],
   "source": [
    "pip install pika"
   ]
  },
  {
   "cell_type": "markdown",
   "id": "ce4835fb",
   "metadata": {},
   "source": [
    "## Reconfigure NGSI-LD Smart Village Sync\n",
    "When an IoT Agent receives a message from RabbitMQ with identifiers that match a registered smart device, it sends the data to the Context Broker in NGSI-LD format. After the Context Broker updates the entity data for the device in PostgreSQL, it looks if any services are subscribed to the entity. We configure all smart devices with a Context Broker subscription (webhook) so that the Context Broker sends all entity data updates to the NGSI-LD Smart Village Sync application we deployed in the project. The NGSI-LD Smart Village Sync application is configured to send subscription data straight to the Smart Village Platform API. We need to update our NGSI-LD Smart Village Sync application to point to the new Smart Village application we started running in our OpenShift AI Workbench for development. "
   ]
  },
  {
   "cell_type": "code",
   "execution_count": null,
   "id": "448e33ca",
   "metadata": {
    "vscode": {
     "languageId": "shellscript"
    }
   },
   "outputs": [],
   "source": [
    "oc -n $(cat /var/run/secrets/kubernetes.io/serviceaccount/namespace) \\\n",
    "  set env deployment/ngsild-smartvillage-sync SMARTVILLAGE_HOST_NAME=$(oc get route/vscode-devel -o jsonpath={.spec.host})\n",
    "oc -n $(cat /var/run/secrets/kubernetes.io/serviceaccount/namespace) \\\n",
    "  set env deployment/ngsild-smartvillage-sync SMARTVILLAGE_PORT=443\n",
    "oc -n $(cat /var/run/secrets/kubernetes.io/serviceaccount/namespace) \\\n",
    "  set env deployment/ngsild-smartvillage-sync SMARTVILLAGE_SSL=true\n",
    "echo DONE"
   ]
  },
  {
   "cell_type": "code",
   "execution_count": null,
   "id": "ad93f6bc",
   "metadata": {
    "vscode": {
     "languageId": "shellscript"
    }
   },
   "outputs": [],
   "source": [
    "(cd ~/smartvillage-operator && operator-sdk create api --group smartvillage --version v1 --kind PhotovoltaicMeasurement --generate-role)\n",
    "echo DONE"
   ]
  },
  {
   "cell_type": "code",
   "execution_count": null,
   "id": "9eb3d352",
   "metadata": {
    "vscode": {
     "languageId": "shellscript"
    }
   },
   "outputs": [],
   "source": [
    "(cd ~/smartvillage-operator && ansible-playbook write-smart-data-model-templates.yaml -e ENTITY_TYPE=PhotovoltaicMeasurement)\n",
    "echo DONE"
   ]
  },
  {
   "cell_type": "code",
   "execution_count": null,
   "id": "6dfdfc41",
   "metadata": {
    "vscode": {
     "languageId": "shellscript"
    }
   },
   "outputs": [],
   "source": [
    "echo \"\n",
    "apiVersion: smartvillage.computate.org/v1\n",
    "kind: PhotovoltaicMeasurement\n",
    "metadata:\n",
    "  name: star\n",
    "  namespace: $(cat /var/run/secrets/kubernetes.io/serviceaccount/namespace)\n",
    "spec:\n",
    "  iotagent:\n",
    "    base_url: http://iotagent-json:4041\n",
    "  context_broker:\n",
    "    base_url: http://scorpiobroker:9090\n",
    "  ngsi_ld:\n",
    "    service: smarttrafficlights\n",
    "    service_path: /Sweden/Veberod/CityCenter\n",
    "    context: https://raw.githubusercontent.com/computate-org/smartabyar-smartvillage-static/main/fiware/context.jsonld\n",
    "  device:\n",
    "    id: star\n",
    "    subscription_url: http://ngsild-smartvillage-sync:8080\n",
    "  message_broker:\n",
    "    transport: AMQP\n",
    "    host: default-rabbitmq\n",
    "    port: 5672\n",
    "    user: user\n",
    "    secret:\n",
    "      name: rabbitmq-password\n",
    "      key: rabbitmq-password\n",
    "  smartvillage:\n",
    "    auth_secret_name: smartvillage\n",
    "    auth_token_url: https://sso.smartabyarsmartvillage.org/auth/realms/SMARTVILLAGE/protocol/openid-connect/token\n",
    "    site_base_url: https://$(oc get route/vscode-devel -o jsonpath={.spec.host})\n",
    "    smart_model_api: /api/PhotovoltaicMeasurement\n",
    "  attributes:\n",
    "    areaServed: {\n",
    "        \"coordinates\": [\n",
    "          [\n",
    "            [\n",
    "              13.492267031569327,\n",
    "              55.63382607412092\n",
    "            ],\n",
    "            [\n",
    "              13.492145868594037,\n",
    "              55.63382081304013\n",
    "            ],\n",
    "            [\n",
    "              13.492234410768901,\n",
    "              55.633773463278374\n",
    "            ],\n",
    "            [\n",
    "              13.492201789967083,\n",
    "              55.63370506907751\n",
    "            ],\n",
    "            [\n",
    "              13.492304312485658,\n",
    "              55.63373926619286\n",
    "            ],\n",
    "            [\n",
    "              13.492397514773728,\n",
    "              55.63370506907751\n",
    "            ],\n",
    "            [\n",
    "              13.492369554087844,\n",
    "              55.63377609382226\n",
    "            ],\n",
    "            [\n",
    "              13.492439455803208,\n",
    "              55.63382081304013\n",
    "            ],\n",
    "            [\n",
    "              13.492350913629707,\n",
    "              55.63382081304013\n",
    "            ],\n",
    "            [\n",
    "              13.492304312485658,\n",
    "              55.633878684892835\n",
    "            ],\n",
    "            [\n",
    "              13.492267031569327,\n",
    "              55.63382607412092\n",
    "            ]\n",
    "          ]\n",
    "        ],\n",
    "        \"type\": \"Polygon\"\n",
    "      }\n",
    "    name: star\n",
    "\" | tee /tmp/PhotovoltaicMeasurement-star.yaml >/dev/null\n",
    "echo DONE"
   ]
  },
  {
   "cell_type": "code",
   "execution_count": null,
   "id": "d108865d",
   "metadata": {
    "vscode": {
     "languageId": "shellscript"
    }
   },
   "outputs": [],
   "source": [
    "ansible-playbook ~/smartvillage-operator/apply-photovoltaicmeasurement.yaml \\\n",
    "  -e ansible_operator_meta_namespace=$(cat /var/run/secrets/kubernetes.io/serviceaccount/namespace) \\\n",
    "  -e crd_path=/tmp/PhotovoltaicMeasurement-star.yaml\n",
    "echo DONE"
   ]
  },
  {
   "cell_type": "code",
   "execution_count": null,
   "id": "f5e798fb",
   "metadata": {
    "vscode": {
     "languageId": "shellscript"
    }
   },
   "outputs": [],
   "source": []
  }
 ],
 "metadata": {
  "kernelspec": {
   "display_name": "Bash",
   "language": "bash",
   "name": "bash"
  },
  "language_info": {
   "codemirror_mode": "shell",
   "file_extension": ".sh",
   "mimetype": "text/x-sh",
   "name": "bash"
  }
 },
 "nbformat": 4,
 "nbformat_minor": 5
}
