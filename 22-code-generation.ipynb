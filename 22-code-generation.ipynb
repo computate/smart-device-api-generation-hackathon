{
 "cells": [
  {
   "cell_type": "markdown",
   "id": "fb657b93-d1e1-4bc5-8b8f-25bd212beb85",
   "metadata": {},
   "source": [
    "# Smart Device API Code Generation Hackathon\n",
    "\n",
    "In this hackathon, we will be generating with AI/ML provided by the well established [computate project](https://github.com/computate-org/computate). We will automatically generate OpenAPI specs, database table schemas, Java POJOs, Vert.x Reactive Java APIs, Handlebars HTML page templates, JavaScript page and API functions, NGSI-LD Context data, OpenShift Custom Resource Definitions, and Ansible Operator roles and playbooks for any of the hundreds of open source Edge device data related [FIWARE Smart Data Models available here](https://github.com/smart-data-models). \n",
    "\n",
    "## Prerequisites\n",
    "To run the AI/ML code generation, you need to have completed the steps in the [README](README.md), [notebook 01-install-prerequisites.ipynb](01-install-prerequisites.ipynb), and [ notebook 02-deploy-microservices.ipynb](01-install-prerequisites.ipynb) to install the dependencies into the workbench, and deploy all the microservices. Then run the commands below in your OpenShift AI Workbench. "
   ]
  },
  {
   "cell_type": "markdown",
   "id": "b5611b31",
   "metadata": {},
   "source": [
    "## Clone Computate and Smart Village repos"
   ]
  },
  {
   "cell_type": "markdown",
   "id": "78894ab6",
   "metadata": {},
   "source": [
    "### computate_project Ansible Role\n",
    "\n",
    "The [computate_project Ansible Role](https://github.com/computate-org/computate_project.git) is for installing Java projects that want to generate code for them using the [computate project](https://github.com/computate-org/computate.git). "
   ]
  },
  {
   "cell_type": "code",
   "execution_count": null,
   "id": "50663f45-25ce-4551-8550-0986e67369be",
   "metadata": {
    "vscode": {
     "languageId": "shellscript"
    }
   },
   "outputs": [],
   "source": [
    "install -d ~/.ansible/roles\n",
    "git clone git@github.com:computate-org/computate_project.git ~/.ansible/roles/computate.computate_project\n",
    "echo DONE"
   ]
  },
  {
   "cell_type": "markdown",
   "id": "0b621732",
   "metadata": {},
   "source": [
    "### computate project\n",
    "\n",
    "The [computate project](https://github.com/computate-org/computate.git) is a Java project that watches for changes to files in a directory recursively, parses the Java code as it's created or updated, indexes every detail about each Java class, constructor, method, and field in the Apache Solr search engine, and generates code based on what it discovers. This is the main open source library that does the AI/ML code generation. Instead of a typical model server, we use Apache Solr as the model server. We can flexibly index every aspect about our Java code in Solr as we code over time, including multiple Java projects at the same time, and link together classes, types, and foreign key relations between projects. "
   ]
  },
  {
   "cell_type": "code",
   "execution_count": null,
   "id": "afb89892-f417-4fba-9c1c-d0f04d328af1",
   "metadata": {
    "vscode": {
     "languageId": "shellscript"
    }
   },
   "outputs": [],
   "source": [
    "git clone https://github.com/computate-org/computate.git ~/computate\n",
    "echo DONE"
   ]
  },
  {
   "cell_type": "markdown",
   "id": "729d687d",
   "metadata": {},
   "source": [
    "Use maven to compile and install the computate project in the workbench. "
   ]
  },
  {
   "cell_type": "code",
   "execution_count": null,
   "id": "354b35b8-213b-4151-a9b0-a2fba25ee86e",
   "metadata": {
    "tags": [],
    "vscode": {
     "languageId": "shellscript"
    }
   },
   "outputs": [],
   "source": [
    "(cd ~/computate &&  mvn clean install)\n",
    "echo DONE"
   ]
  },
  {
   "cell_type": "markdown",
   "id": "a1c3f4fe",
   "metadata": {},
   "source": [
    "### computate-search project\n",
    "\n",
    "The [computate-search project](https://github.com/computate-org/computate-search.git) is a Java project that mainly interacts with Apache Solr to make search queries, and parse the response. There are also several date time serializers and deserializers for handling date times in requests. One other important class is the `Wrap` class which can wrap a Java field initialization value by it's generic type as part of the generated initialization code for each class. "
   ]
  },
  {
   "cell_type": "code",
   "execution_count": null,
   "id": "4eb25561",
   "metadata": {
    "vscode": {
     "languageId": "shellscript"
    }
   },
   "outputs": [],
   "source": [
    "git clone https://github.com/computate-org/computate-search.git ~/computate-search\n",
    "echo DONE"
   ]
  },
  {
   "cell_type": "markdown",
   "id": "082e9e0f",
   "metadata": {},
   "source": [
    "Run the Ansible Playbook to configure and compile the `computate-search` project. "
   ]
  },
  {
   "cell_type": "code",
   "execution_count": null,
   "id": "eff18d30-1f7b-4503-8358-e140ab9aaffb",
   "metadata": {
    "tags": [],
    "vscode": {
     "languageId": "shellscript"
    }
   },
   "outputs": [],
   "source": [
    "ansible-playbook ~/.ansible/roles/computate.computate_project/install.yml \\\n",
    "  -e SITE_NAME=computate-search \\\n",
    "  -e SYSTEMD_ENABLED=false \\\n",
    "  -e SITE_PREFIX=/opt/app-root/src \\\n",
    "  -e SOLR_HOST_NAME=solr \\\n",
    "  -e SOLR_PORT=8983 \\\n",
    "  -e SOLR_SSL=false \\\n",
    "  -e SOLR_URL=\"http://solr:8983/solr/computate-search\" \\\n",
    "  -e SOLR_URL_COMPUTATE=\"http://solr:8983/solr/computate\" \\\n",
    "  -e POSTGRES_NAMESPACE=$(cat /var/run/secrets/kubernetes.io/serviceaccount/namespace) \\\n",
    "  -e ZOOKEEPER_NAMESPACE=$(cat /var/run/secrets/kubernetes.io/serviceaccount/namespace) \\\n",
    "  -e SOLR_NAMESPACE=$(cat /var/run/secrets/kubernetes.io/serviceaccount/namespace)\n",
    "echo DONE"
   ]
  },
  {
   "cell_type": "markdown",
   "id": "0cdcb9d6",
   "metadata": {},
   "source": [
    "Run the `index.sh` shell script of the `computate` project on  the  `computate-search` project to index all of the `computate-search` Java classes into the Apache Solr search engine. "
   ]
  },
  {
   "cell_type": "code",
   "execution_count": null,
   "id": "237dab0c-ac5f-432a-9ae4-e12839655ffd",
   "metadata": {
    "vscode": {
     "languageId": "shellscript"
    }
   },
   "outputs": [],
   "source": [
    "env SITE_NAME=computate-search \\\n",
    "  SITE_PATH=$HOME/computate-search \\\n",
    "  COMPUTATE_SRC=$HOME/computate \\\n",
    "  SITE_LANG=enUS \\\n",
    "  ~/computate/bin/enUS/index.sh\n",
    "echo DONE"
   ]
  },
  {
   "cell_type": "markdown",
   "id": "f4162a9f",
   "metadata": {},
   "source": [
    "Now query the Solr search engine to find out how many Java classes, constructors, methods, fields, and generated fields are found in the  `computate-search` project. "
   ]
  },
  {
   "cell_type": "code",
   "execution_count": null,
   "id": "dde0f1bb",
   "metadata": {
    "vscode": {
     "languageId": "shellscript"
    }
   },
   "outputs": [],
   "source": [
    "curl -s 'http://solr:8983/solr/computate/query?rows=0&fq=siteNom_indexed_string:computate-search' -d \\\n",
    "  '{\n",
    "    \"query\": \"*:*\"\n",
    "    , \"facet\": {\n",
    "      \"classes\" : { \"type\": \"terms\", \"field\": \"classeNomSimple_enUS_indexed_string\", \"numBuckets\": true, \"limit\": 5 }\n",
    "      , \"constructors\" : { \"type\": \"terms\", \"field\": \"partEstConstructeur_indexed_boolean\" }\n",
    "      , \"methods\" : { \"type\": \"terms\", \"field\": \"partEstMethode_indexed_boolean\" }\n",
    "      , \"methodNames\" : { \"type\": \"terms\", \"field\": \"methodeVar_enUS_indexed_string\", \"numBuckets\": true, \"limit\": 5 }\n",
    "      , \"fields\" : { \"type\": \"terms\", \"field\": \"partEstChamp_indexed_boolean\" }\n",
    "      , \"fieldNames\" : { \"type\": \"terms\", \"field\": \"champVar_enUS_indexed_string\", \"numBuckets\": true, \"limit\": 5 }\n",
    "      , \"generatedFields\" : { \"type\": \"terms\", \"field\": \"partEstEntite_indexed_boolean\" }\n",
    "      , \"generatedFieldNames\" : { \"type\": \"terms\", \"field\": \"entiteVar_enUS_indexed_string\", \"numBuckets\": true, \"limit\": 5 }\n",
    "    }\n",
    "  }' | jq -r '\"\\(.facets.classes.numBuckets) Java classes (for example \\(.facets.classes.buckets | map(.val) | join(\", \")))\n",
    "\\(.facets.constructors.buckets[0].count) constructors\n",
    "\\(.facets.methods.buckets[0].count) methods (for example \\(.facets.methodNames.buckets | map(.val) | join(\", \")))\n",
    "\\(.facets.fields.buckets[0].count) fields (for example \\(.facets.fieldNames.buckets | map(.val) | join(\", \")))\n",
    "\\(.facets.generatedFields.buckets[0].count) new generated fields (for example \\(.facets.generatedFieldNames.buckets | map(.val) | join(\", \")))\"'\n",
    "echo DONE"
   ]
  },
  {
   "cell_type": "code",
   "execution_count": null,
   "id": "4013be68",
   "metadata": {
    "vscode": {
     "languageId": "shellscript"
    }
   },
   "outputs": [],
   "source": [
    "git clone https://github.com/computate-org/computate-vertx.git ~/computate-vertx\n",
    "echo DONE"
   ]
  },
  {
   "cell_type": "code",
   "execution_count": 30,
   "id": "77c36fe2",
   "metadata": {
    "vscode": {
     "languageId": "shellscript"
    }
   },
   "outputs": [
    {
     "name": "stdout",
     "output_type": "stream",
     "text": [
      "34 Java classes (for example ComputateJavaClass, ComputateConfigKeys, ApiWriter, ComputatePageLayout, SearchList)\n",
      "7 constructors\n",
      "254 methods (for example create, serialize, toString, deserialize, toId)\n",
      "238 fields (for example LOG, formatZonedDateTime, templateEngine, ACCOUNT_EMAIL, API_BASE_PATH)\n",
      "360 new generated fields (for example siteRequest_, classSimpleName, config, languageName, appName)\n",
      "DONE\n"
     ]
    }
   ],
   "source": [
    "curl -s 'http://solr:8983/solr/computate/query?rows=0&fq=siteNom_indexed_string:computate-vertx' -d \\\n",
    "  '{\n",
    "    \"query\": \"*:*\"\n",
    "    , \"facet\": {\n",
    "      \"classes\" : { \"type\": \"terms\", \"field\": \"classeNomSimple_enUS_indexed_string\", \"numBuckets\": true, \"limit\": 5 }\n",
    "      , \"constructors\" : { \"type\": \"terms\", \"field\": \"partEstConstructeur_indexed_boolean\" }\n",
    "      , \"methods\" : { \"type\": \"terms\", \"field\": \"partEstMethode_indexed_boolean\" }\n",
    "      , \"methodNames\" : { \"type\": \"terms\", \"field\": \"methodeVar_enUS_indexed_string\", \"numBuckets\": true, \"limit\": 5 }\n",
    "      , \"fields\" : { \"type\": \"terms\", \"field\": \"partEstChamp_indexed_boolean\" }\n",
    "      , \"fieldNames\" : { \"type\": \"terms\", \"field\": \"champVar_enUS_indexed_string\", \"numBuckets\": true, \"limit\": 5 }\n",
    "      , \"generatedFields\" : { \"type\": \"terms\", \"field\": \"partEstEntite_indexed_boolean\" }\n",
    "      , \"generatedFieldNames\" : { \"type\": \"terms\", \"field\": \"entiteVar_enUS_indexed_string\", \"numBuckets\": true, \"limit\": 5 }\n",
    "    }\n",
    "  }' | jq -r '\"\\(.facets.classes.numBuckets) Java classes (for example \\(.facets.classes.buckets | map(.val) | join(\", \")))\n",
    "\\(.facets.constructors.buckets[0].count) constructors\n",
    "\\(.facets.methods.buckets[0].count) methods (for example \\(.facets.methodNames.buckets | map(.val) | join(\", \")))\n",
    "\\(.facets.fields.buckets[0].count) fields (for example \\(.facets.fieldNames.buckets | map(.val) | join(\", \")))\n",
    "\\(.facets.generatedFields.buckets[0].count) new generated fields (for example \\(.facets.generatedFieldNames.buckets | map(.val) | join(\", \")))\"'\n",
    "echo DONE"
   ]
  },
  {
   "cell_type": "code",
   "execution_count": null,
   "id": "bc511d9d",
   "metadata": {
    "vscode": {
     "languageId": "shellscript"
    }
   },
   "outputs": [],
   "source": [
    "git clone https://github.com/computate-org/smartvillage-platform.git ~/smartvillage-platform\n",
    "echo DONE"
   ]
  },
  {
   "cell_type": "code",
   "execution_count": 29,
   "id": "617e4e0b",
   "metadata": {
    "vscode": {
     "languageId": "shellscript"
    }
   },
   "outputs": [
    {
     "name": "stdout",
     "output_type": "stream",
     "text": [
      "24 Java classes (for example PageLayout, ConfigKeys, SiteRequestEnUS, AsyncInputStream, SystemEvent)\n",
      "4 constructors\n",
      "61 methods (for example toId, doRead, _id, _objectId, _objectTitle)\n",
      "73 fields (for example API_COUNTER_FETCH_SiteHtm, API_COUNTER_FETCH_SitePage, API_COUNTER_FETCH_TimeStep, API_COUNTER_FETCH_VehicleStep, API_COUNTER_RESUME_TimeStep)\n",
      "253 new generated fields (for example siteRequest_, userKey, classSimpleName, pageId, sessionId)\n",
      "DONE\n"
     ]
    }
   ],
   "source": [
    "curl -s 'http://solr:8983/solr/computate/query?rows=0&fq=siteNom_indexed_string:smartvillage-platform' -d \\\n",
    "  '{\n",
    "    \"query\": \"*:*\"\n",
    "    , \"facet\": {\n",
    "      \"classes\" : { \"type\": \"terms\", \"field\": \"classeNomSimple_enUS_indexed_string\", \"numBuckets\": true, \"limit\": 5 }\n",
    "      , \"constructors\" : { \"type\": \"terms\", \"field\": \"partEstConstructeur_indexed_boolean\" }\n",
    "      , \"methods\" : { \"type\": \"terms\", \"field\": \"partEstMethode_indexed_boolean\" }\n",
    "      , \"methodNames\" : { \"type\": \"terms\", \"field\": \"methodeVar_enUS_indexed_string\", \"numBuckets\": true, \"limit\": 5 }\n",
    "      , \"fields\" : { \"type\": \"terms\", \"field\": \"partEstChamp_indexed_boolean\" }\n",
    "      , \"fieldNames\" : { \"type\": \"terms\", \"field\": \"champVar_enUS_indexed_string\", \"numBuckets\": true, \"limit\": 5 }\n",
    "      , \"generatedFields\" : { \"type\": \"terms\", \"field\": \"partEstEntite_indexed_boolean\" }\n",
    "      , \"generatedFieldNames\" : { \"type\": \"terms\", \"field\": \"entiteVar_enUS_indexed_string\", \"numBuckets\": true, \"limit\": 5 }\n",
    "    }\n",
    "  }' | jq -r '\"\\(.facets.classes.numBuckets) Java classes (for example \\(.facets.classes.buckets | map(.val) | join(\", \")))\n",
    "\\(.facets.constructors.buckets[0].count) constructors\n",
    "\\(.facets.methods.buckets[0].count) methods (for example \\(.facets.methodNames.buckets | map(.val) | join(\", \")))\n",
    "\\(.facets.fields.buckets[0].count) fields (for example \\(.facets.fieldNames.buckets | map(.val) | join(\", \")))\n",
    "\\(.facets.generatedFields.buckets[0].count) new generated fields (for example \\(.facets.generatedFieldNames.buckets | map(.val) | join(\", \")))\"'\n",
    "echo DONE"
   ]
  },
  {
   "cell_type": "code",
   "execution_count": null,
   "id": "af6d8084",
   "metadata": {
    "vscode": {
     "languageId": "shellscript"
    }
   },
   "outputs": [],
   "source": [
    "git clone https://github.com/computate-org/smartvillage-platform-static.git ~/smartvillage-platform-static\n",
    "echo DONE"
   ]
  },
  {
   "cell_type": "code",
   "execution_count": null,
   "id": "b95ab409",
   "metadata": {
    "vscode": {
     "languageId": "shellscript"
    }
   },
   "outputs": [],
   "source": [
    "git clone https://github.com/computate-org/smartabyar-smartvillage.git ~/smartabyar-smartvillage\n",
    "echo DONE"
   ]
  },
  {
   "cell_type": "code",
   "execution_count": 31,
   "id": "2cf164e1",
   "metadata": {
    "vscode": {
     "languageId": "shellscript"
    }
   },
   "outputs": [
    {
     "name": "stdout",
     "output_type": "stream",
     "text": [
      "114 Java classes (for example TrafficSimulationGen, StorageBatteryDeviceGen, TrafficFlowObservedGen, SmartTrafficLightGen, StorageBatteryMeasurementGen)\n",
      "17 constructors\n",
      "6496 methods (for example displayNameForClass, obtainForClass, relateForClass, staticSearchForClass, staticSearchFqForClass)\n",
      "1771 fields (for example LOG, CLASS_SIMPLE_NAME, DISPLAY_NAME_id, VAR_id, id)\n",
      "663 new generated fields (for example id, location, pk, areaServed, areaServedColors)\n",
      "DONE\n"
     ]
    }
   ],
   "source": [
    "curl -s 'http://solr:8983/solr/computate/query?rows=0&fq=siteNom_indexed_string:smartabyar-smartvillage' -d \\\n",
    "  '{\n",
    "    \"query\": \"*:*\"\n",
    "    , \"facet\": {\n",
    "      \"classes\" : { \"type\": \"terms\", \"field\": \"classeNomSimple_enUS_indexed_string\", \"numBuckets\": true, \"limit\": 5 }\n",
    "      , \"constructors\" : { \"type\": \"terms\", \"field\": \"partEstConstructeur_indexed_boolean\" }\n",
    "      , \"methods\" : { \"type\": \"terms\", \"field\": \"partEstMethode_indexed_boolean\" }\n",
    "      , \"methodNames\" : { \"type\": \"terms\", \"field\": \"methodeVar_enUS_indexed_string\", \"numBuckets\": true, \"limit\": 5 }\n",
    "      , \"fields\" : { \"type\": \"terms\", \"field\": \"partEstChamp_indexed_boolean\" }\n",
    "      , \"fieldNames\" : { \"type\": \"terms\", \"field\": \"champVar_enUS_indexed_string\", \"numBuckets\": true, \"limit\": 5 }\n",
    "      , \"generatedFields\" : { \"type\": \"terms\", \"field\": \"partEstEntite_indexed_boolean\" }\n",
    "      , \"generatedFieldNames\" : { \"type\": \"terms\", \"field\": \"entiteVar_enUS_indexed_string\", \"numBuckets\": true, \"limit\": 5 }\n",
    "    }\n",
    "  }' | jq -r '\"\\(.facets.classes.numBuckets) Java classes (for example \\(.facets.classes.buckets | map(.val) | join(\", \")))\n",
    "\\(.facets.constructors.buckets[0].count) constructors\n",
    "\\(.facets.methods.buckets[0].count) methods (for example \\(.facets.methodNames.buckets | map(.val) | join(\", \")))\n",
    "\\(.facets.fields.buckets[0].count) fields (for example \\(.facets.fieldNames.buckets | map(.val) | join(\", \")))\n",
    "\\(.facets.generatedFields.buckets[0].count) new generated fields (for example \\(.facets.generatedFieldNames.buckets | map(.val) | join(\", \")))\"'\n",
    "echo DONE"
   ]
  },
  {
   "cell_type": "code",
   "execution_count": null,
   "id": "ef30d361",
   "metadata": {
    "vscode": {
     "languageId": "shellscript"
    }
   },
   "outputs": [],
   "source": [
    "git clone https://github.com/computate-org/smartabyar-smartvillage-static.git ~/smartabyar-smartvillage-static\n",
    "echo DONE"
   ]
  },
  {
   "cell_type": "code",
   "execution_count": null,
   "id": "07b88d5d-86f9-4ecd-b755-5f6fdfdcdd0e",
   "metadata": {
    "tags": [],
    "vscode": {
     "languageId": "shellscript"
    }
   },
   "outputs": [],
   "source": [
    "ansible-playbook ~/.ansible/roles/computate.computate_project/install.yml \\\n",
    "  -e SITE_NAME=computate-vertx \\\n",
    "  -e SYSTEMD_ENABLED=false \\\n",
    "  -e SITE_PREFIX=/opt/app-root/src \\\n",
    "  -e SOLR_HOST_NAME=solr \\\n",
    "  -e SOLR_PORT=8983 \\\n",
    "  -e SOLR_SSL=false \\\n",
    "  -e SOLR_URL=\"http://solr:8983/solr/computate-vertx\" \\\n",
    "  -e SOLR_URL_COMPUTATE=\"http://solr:8983/solr/computate\" \\\n",
    "  -e POSTGRES_NAMESPACE=$(cat /var/run/secrets/kubernetes.io/serviceaccount/namespace) \\\n",
    "  -e ZOOKEEPER_NAMESPACE=$(cat /var/run/secrets/kubernetes.io/serviceaccount/namespace) \\\n",
    "  -e SOLR_NAMESPACE=$(cat /var/run/secrets/kubernetes.io/serviceaccount/namespace)\n",
    "echo DONE"
   ]
  },
  {
   "cell_type": "code",
   "execution_count": null,
   "id": "5553d8bd-5e9c-45d5-8993-3c71f18fd9a7",
   "metadata": {
    "vscode": {
     "languageId": "shellscript"
    }
   },
   "outputs": [],
   "source": [
    "env SITE_NAME=computate-vertx \\\n",
    "  SITE_PATH=$HOME/computate-vertx \\\n",
    "  COMPUTATE_SRC=$HOME/computate \\\n",
    "  SITE_LANG=enUS \\\n",
    "  ~/computate/bin/enUS/index.sh\n",
    "echo DONE"
   ]
  },
  {
   "cell_type": "code",
   "execution_count": null,
   "id": "be865113-6e75-46cc-a2cf-e4a2c6e4cfa5",
   "metadata": {
    "tags": [],
    "vscode": {
     "languageId": "shellscript"
    }
   },
   "outputs": [],
   "source": [
    "ansible-playbook ~/.ansible/roles/computate.computate_project/install.yml \\\n",
    "  -e SITE_NAME=smartvillage-platform \\\n",
    "  -e SYSTEMD_ENABLED=false \\\n",
    "  -e SITE_PREFIX=/opt/app-root/src \\\n",
    "  -e SOLR_HOST_NAME=solr \\\n",
    "  -e SOLR_PORT=8983 \\\n",
    "  -e SOLR_SSL=false \\\n",
    "  -e SOLR_URL=\"http://solr:8983/solr/smartvillage-platform\" \\\n",
    "  -e SOLR_URL_COMPUTATE=\"http://solr:8983/solr/computate\" \\\n",
    "  -e POSTGRES_NAMESPACE=$(cat /var/run/secrets/kubernetes.io/serviceaccount/namespace) \\\n",
    "  -e ZOOKEEPER_NAMESPACE=$(cat /var/run/secrets/kubernetes.io/serviceaccount/namespace) \\\n",
    "  -e SOLR_NAMESPACE=$(cat /var/run/secrets/kubernetes.io/serviceaccount/namespace)\n",
    "echo DONE"
   ]
  },
  {
   "cell_type": "code",
   "execution_count": null,
   "id": "52ab0585-f3ea-44a3-bb05-1d187b549d80",
   "metadata": {
    "vscode": {
     "languageId": "shellscript"
    }
   },
   "outputs": [],
   "source": [
    "env SITE_NAME=smartvillage-platform \\\n",
    "  SITE_PATH=$HOME/smartvillage-platform \\\n",
    "  COMPUTATE_SRC=$HOME/computate \\\n",
    "  SITE_LANG=enUS \\\n",
    "  ~/computate/bin/enUS/index.sh\n",
    "echo DONE"
   ]
  },
  {
   "cell_type": "code",
   "execution_count": null,
   "id": "6a8c84e5-ab51-4d2b-8988-1571858257ee",
   "metadata": {
    "tags": [],
    "vscode": {
     "languageId": "shellscript"
    }
   },
   "outputs": [],
   "source": [
    "SITE_HOST_NAME=\"$(oc -n $(cat /var/run/secrets/kubernetes.io/serviceaccount/namespace) get route/sumodev -o jsonpath={.spec.host})\"\n",
    "AUTH_SECRET_NAME=\"$(oc -n $(cat /var/run/secrets/kubernetes.io/serviceaccount/namespace) get secret/keycloak-client-secret-smartvillage -o jsonpath={.data.CLIENT_SECRET})\"\n",
    "AUTH_CLIENT=\"$(oc -n $(cat /var/run/secrets/kubernetes.io/serviceaccount/namespace) get secret/keycloak-client-secret-smartvillage -o jsonpath={.data.CLIENT_ID} | base64 -d)\"\n",
    "AUTH_SECRET=\"$(oc -n $(cat /var/run/secrets/kubernetes.io/serviceaccount/namespace) get secret/keycloak-client-secret-smartvillage -o jsonpath={.data.CLIENT_SECRET} | base64 -d)\"\n",
    "\n",
    "oc extract -n $(cat /var/run/secrets/kubernetes.io/serviceaccount/namespace) secret/smartvillage-kafka --to=$HOME/smartabyar-smartvillage/config/ --keys=user.p12 --confirm\n",
    "KAFKA_SSL_KEYSTORE_PASSWORD=\"$(oc get -n $(cat /var/run/secrets/kubernetes.io/serviceaccount/namespace) secret/smartvillage-kafka -o 'jsonpath={.data.user\\.password}' | base64 -d)\"\n",
    "oc extract -n $(cat /var/run/secrets/kubernetes.io/serviceaccount/namespace) secret/default-cluster-ca-cert --to=$HOME/smartabyar-smartvillage/config/ --keys=ca.p12 --confirm\n",
    "KAFKA_SSL_TRUSTSTORE_PASSWORD=\"$(oc get -n $(cat /var/run/secrets/kubernetes.io/serviceaccount/namespace) secret/default-cluster-ca-cert -o 'jsonpath={.data.ca\\.password}' | base64 -d)\"\n",
    "\n",
    "ansible-playbook ~/.ansible/roles/computate.computate_project/install.yml \\\n",
    "  -e SITE_NAME=smartabyar-smartvillage \\\n",
    "  -e SYSTEMD_ENABLED=false \\\n",
    "  -e SITE_PREFIX=/opt/app-root/src \\\n",
    "  -e SOLR_HOST_NAME_COMPUTATE=solr \\\n",
    "  -e SOLR_PORT_COMPUTATE=8983 \\\n",
    "  -e SOLR_SSL_COMPUTATE=false \\\n",
    "  -e SOLR_HOST_NAME=solr \\\n",
    "  -e SOLR_PORT=8983 \\\n",
    "  -e SOLR_SSL=false \\\n",
    "  -e SOLR_URL=\"http://solr:8983/solr/smartabyar-smartvillage\" \\\n",
    "  -e SOLR_URL_COMPUTATE=\"http://solr:8983/solr/computate\" \\\n",
    "  -e ZOOKEEPER_HOST_NAME=zookeeper \\\n",
    "  -e ZOOKEEPER_PORT=2181 \\\n",
    "  -e JDBC_HOST=postgres-primary \\\n",
    "  -e JDBC_PORT=5432 \\\n",
    "  -e POSTGRES_NAMESPACE=$(cat /var/run/secrets/kubernetes.io/serviceaccount/namespace) \\\n",
    "  -e ZOOKEEPER_NAMESPACE=$(cat /var/run/secrets/kubernetes.io/serviceaccount/namespace) \\\n",
    "  -e SOLR_NAMESPACE=$(cat /var/run/secrets/kubernetes.io/serviceaccount/namespace) \\\n",
    "  -e SITE_BASE_URL=\"https://${SITE_HOST_NAME}\" \\\n",
    "  -e STATIC_BASE_URL=\"https://${SITE_HOST_NAME}/static\" \\\n",
    "  -e AUTH_CLIENT=\"${AUTH_CLIENT}\" \\\n",
    "  -e AUTH_SECRET=\"${AUTH_SECRET}\" \\\n",
    "  -e KAFKA_SSL_KEYSTORE_PASSWORD=\"${KAFKA_SSL_KEYSTORE_PASSWORD}\" \\\n",
    "  -e KAFKA_SSL_TRUSTSTORE_PASSWORD=\"${KAFKA_SSL_TRUSTSTORE_PASSWORD}\" \\\n",
    "  -e KAFKA_BROKERS=\"default-kafka-bootstrap:9093\" \\\n",
    "  -e ENABLE_IMPORT_DATA=false\n",
    "echo DONE"
   ]
  },
  {
   "cell_type": "code",
   "execution_count": null,
   "id": "110ea654",
   "metadata": {
    "vscode": {
     "languageId": "shellscript"
    }
   },
   "outputs": [],
   "source": [
    "oc -n $(cat /var/run/secrets/kubernetes.io/serviceaccount/namespace) rsync \\\n",
    "  /opt/app-root/src/smartabyar-smartvillage/src/main/resources/sql/ \\\n",
    "  $(oc -n $(cat /var/run/secrets/kubernetes.io/serviceaccount/namespace) get pod -l postgres-operator.crunchydata.com/role=master -o name):/tmp/\n",
    "oc -n $(cat /var/run/secrets/kubernetes.io/serviceaccount/namespace) exec \\\n",
    "  $(oc -n $(cat /var/run/secrets/kubernetes.io/serviceaccount/namespace) get pod -l postgres-operator.crunchydata.com/role=master -o name) \\\n",
    "  -- bash -c 'psql -U smartvillage smartvillage < /tmp/db-create.sql'"
   ]
  },
  {
   "cell_type": "code",
   "execution_count": null,
   "id": "67d80e4c-09e6-4751-91c5-e3734d7841c6",
   "metadata": {
    "vscode": {
     "languageId": "shellscript"
    }
   },
   "outputs": [],
   "source": [
    "env SITE_NAME=smartabyar-smartvillage \\\n",
    "  SITE_PATH=$HOME/smartabyar-smartvillage \\\n",
    "  COMPUTATE_SRC=$HOME/computate \\\n",
    "  SITE_LANG=enUS \\\n",
    "  ~/computate/bin/enUS/generate.sh\n",
    "echo DONE"
   ]
  },
  {
   "cell_type": "code",
   "execution_count": null,
   "id": "eacf59a6-a5bf-4b20-8be8-c85266d2a6f2",
   "metadata": {
    "vscode": {
     "languageId": "shellscript"
    }
   },
   "outputs": [],
   "source": [
    "echo '\n",
    "kind: Service\n",
    "apiVersion: v1\n",
    "metadata:\n",
    "  name: smartvillage-devel\n",
    "  namespace: $(cat /var/run/secrets/kubernetes.io/serviceaccount/namespace)\n",
    "spec:\n",
    "  ports:\n",
    "    - protocol: TCP\n",
    "      port: 12080\n",
    "      targetPort: 12080\n",
    "  type: ClusterIP\n",
    "  selector:\n",
    "    notebook-name: sumo\n",
    "' | oc apply -f -\n"
   ]
  },
  {
   "cell_type": "code",
   "execution_count": null,
   "id": "f5962e5d-48c2-49c3-86cc-5f5d1ba7a8a6",
   "metadata": {
    "vscode": {
     "languageId": "shellscript"
    }
   },
   "outputs": [],
   "source": []
  }
 ],
 "metadata": {
  "kernelspec": {
   "display_name": "Bash",
   "language": "bash",
   "name": "bash"
  },
  "language_info": {
   "codemirror_mode": "shell",
   "file_extension": ".sh",
   "mimetype": "text/x-sh",
   "name": "bash"
  }
 },
 "nbformat": 4,
 "nbformat_minor": 5
}
