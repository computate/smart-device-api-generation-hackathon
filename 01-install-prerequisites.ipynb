{
 "cells": [
  {
   "cell_type": "markdown",
   "id": "50bb4e0e-a127-4327-b49f-f68a1583b866",
   "metadata": {
    "tags": []
   },
   "source": [
    "# Installing workbench prerequisites\n",
    "\n",
    "> \"I just finished my 8 story point feature for this sprint, can you please review my pull request\" **- Software Engineer**\n",
    "\n",
    "> \"Did you know there's a pip package for that feature?\" **- Software Architect**\n",
    "\n",
    "Have you ever written an exciting piece of code, or automation, just to realize from somebody else that there's already an open source package available for that? That's how I felt when I first learned about Ansible automation, and how I had been wasting my time automating simple things that were already freely available to me. I want to set you up with the knowledge, and best tools available to easily deploy complex edge-to-cloud solutions like the Smart Village Platform. You can build your own solutions using the most up-to-date enterprise open source tools available, and I will show you how. \n",
    "\n",
    "For the rest of the course material to run smooth, you will need to run this list of prerequisite commands the first time you run the course, and again if your course is shut down after being idle. The python environment and it's extra packages that are required are reset, when this workbench is shutdown and restarted. **In case you are restarting the workbench**, you should only need to run the second section `Install prerequisite Ansible automation tools` below. "
   ]
  },
  {
   "cell_type": "markdown",
   "id": "ada6eda0",
   "metadata": {},
   "source": [
    "\n",
    "## Using the OpenShift Environment\n",
    "\n",
    "Log into the OpenShift Console here [https://console.apps.shift.nerc.mghpcc.org](https://console.apps.shift.nerc.mghpcc.org). \n"
   ]
  },
  {
   "cell_type": "markdown",
   "id": "b021ab44",
   "metadata": {},
   "source": [
    "\n",
    "### Download the oc command\n",
    "- Click the\n",
    "<img src=\"pictures/10000201000000180000001946A6B15A7F8D3A9C.png\" />\n",
    "button in the top right of OpenShift container.\n",
    "\n",
    "- Click\n",
    "<img src=\"pictures/100002010000010400000025591A5F602949BE11.png\" />.\n",
    "\n",
    "- Click the download link for your operating system.\n",
    "\n",
    "<img src=\"pictures/1000020100000168000000AC979C70CCF932ABC5.png\" />\n",
    "\n",
    "- You'll need to extract the `oc` command and place it in your path,\n",
    "for example in a `bin` directory in your `$HOME` directory.\n",
    "\n",
    "```bash\n",
    "mkdir -p ~/.local/bin\n",
    "tar xvf ~/Downloads/oc.tar -C ~/.local/bin/\n",
    "```\n"
   ]
  },
  {
   "cell_type": "markdown",
   "id": "7773b62b",
   "metadata": {},
   "source": [
    "\n",
    "### Log into the OpenShift CLI in your terminal\n",
    "\n",
    "- Click your username in the top right corner of OpenShift.\n",
    "\n",
    "- Click\n",
    "<img src=\"pictures/10000201000000BD00000025748AE357F93DE9CB.png\" />.\n",
    "\n",
    "- Click\n",
    "<img src=\"pictures/10000201000000740000002333EFEF0BE6991D9D.png\" />.\n",
    "\n",
    "- Click\n",
    "<img src=\"pictures/100002010000006A000000156B50A1A3B5B867E3.png\" />.\n",
    "\n",
    "- Copy the line to the clipboard that looks like this:\n",
    "\n",
    "<img src=\"pictures/100002010000024F0000004C0CDBE88B1D849CC9.png\" />\n",
    "\n",
    "- Paste the command into your terminal to log in to OpenShift in the terminal.\n",
    "\n",
    "<img src=\"pictures/10000201000003AC000000BE7CE02563432523F1.png\" />\n"
   ]
  },
  {
   "cell_type": "markdown",
   "id": "d69d195d",
   "metadata": {},
   "source": [
    "\n",
    "## Important: Grant default service account edit role in namespace\n",
    "\n",
    "To grant the default service account edit role privileges, you will use\n",
    "either your own terminal where you have logged in to OpenShift, or use\n",
    "the built-in OpenShift Terminal. We will grant edit privileges on the\n",
    "default service account, as well as edit privileges on roles and\n",
    "rolebindings in the namespace so that the default service account can\n",
    "deploy resources in your namespace.\n"
   ]
  },
  {
   "cell_type": "markdown",
   "id": "b3beffaf",
   "metadata": {},
   "source": [
    "```bash\n",
    "oc -n $(cat /var/run/secrets/kubernetes.io/serviceaccount/namespace) create rolebinding vscode-edit --clusterrole=edit --serviceaccount=$(cat /var/run/secrets/kubernetes.io/serviceaccount/namespace):vscode\n",
    "\n",
    "oc -n $(cat /var/run/secrets/kubernetes.io/serviceaccount/namespace) create role vscode-edit-rolebindings --verb=get,list,watch,create,update,patch,delete --resource=roles,rolebindings\n",
    "\n",
    "oc -n $(cat /var/run/secrets/kubernetes.io/serviceaccount/namespace) create rolebinding vscode-edit-rolebindings --role=vscode-edit-rolebindings --serviceaccount=$(cat /var/run/secrets/kubernetes.io/serviceaccount/namespace):vscode\n",
    "```"
   ]
  },
  {
   "cell_type": "markdown",
   "id": "341ad2d3",
   "metadata": {},
   "source": [
    "\n",
    "# OpenShift AI\n",
    "\n",
    "## Set up an OpenShift AI Workbench\n",
    "\n",
    "### Accessing OpenShift AI\n",
    "\n",
    "- In the OpenShift Console, click on the apps button\n",
    "<img src=\"pictures/100002010000003000000024AAAC041571052865.png\" />\n",
    "at the top,\n",
    "\n",
    "- then click [ OpenShift AI] to log into OpenShift AI.\n",
    "\n",
    "- Click the button to\n",
    "<img src=\"pictures/10000201000000A000000020B028AB197DEBE3A3.png\" />.\n",
    "\n",
    "- Log into OpenShift AI by clicking on the\n",
    "<img src=\"pictures/100002010000006C0000001DABF5B58FF6B1D253.png\" />\n",
    "button.\n",
    "\n",
    "- Once you are in OpenShift AI, click on the menu button\n",
    "<img src=\"pictures/100002010000002E000000216426608B65255A13.png\" />,\n",
    "- then click\n",
    "<img src=\"pictures/10000201000000B200000027F58611BB363F3154.png\" />.\n",
    "\n",
    "- Then click on the name of your data science project,\n",
    "for  our project it's `test-stream`.\n"
   ]
  },
  {
   "cell_type": "markdown",
   "id": "7e7cd78a",
   "metadata": {},
   "source": [
    "\n",
    "### Create a new OpenShift AI Workbench\n",
    "\n",
    "- To create a new workbench, click\n",
    "<img src=\"pictures/100002010000009100000021A1D82C0B6349F1C3.png\" />.\n",
    "\n",
    "- To stay consistent with the rest of the course, enter the workbench name\n",
    "\"vscode\".\n",
    "\n",
    "- For Image selection, choose \"VSCode IJava java-17-openjdk\".\n",
    "\n",
    "- You can leave the rest of the fields as the default. At the very bottom, click\n",
    "<img src=\"pictures/1000020100000091000000211148800178F97C50.png\" />.\n",
    "\n",
    "- After a minute or two, you should see the workbench change from\n",
    "<img src=\"pictures/10000201000000460000002FDF0FBBBC61A6E1C5.png\" />\n",
    "to\n",
    "<img src=\"pictures/100002010000003A00000030BD8223197D20CCFD.png\" />.\n"
   ]
  },
  {
   "cell_type": "markdown",
   "id": "09ce15b4",
   "metadata": {},
   "source": [
    "\n",
    "### Access your OpenShift AI Workbench\n",
    "\n",
    "- In OpenShift AI, click on the\n",
    "<img src=\"pictures/100002010000004200000023E46306A5CE3ADC98.png\" />\n",
    "link to open your new OpenShift AI Workbench.\n",
    "\n",
    "- Log into OpenShift AI by clicking on the\n",
    "[ Log in with OpenShift ] button.\n",
    "\n",
    "- You will need to authorize yourself access to your workbench. Click\n",
    "<img src=\"pictures/10000201000000CD0000001AA11D3D36B96FAA42.png\" />.\n"
   ]
  },
  {
   "cell_type": "markdown",
   "id": "679cd140",
   "metadata": {},
   "source": [
    "## Helpful tips for running the commands in this notebook\n",
    "\n",
    "There are several commands that are written into this notebook that can be run directly in the notebook. \n",
    "\n",
    "Just click on the commands in order, and press `[ Shift ] + [ Enter ]`. \n",
    "\n",
    "You can use the arrow keys to move to the next section of the notebook. \n",
    "\n",
    "# Install prerequisite helm binary\n",
    "\n",
    "## Download helm\n",
    "- The helm command is used to deploy helm charts like MongoDB and RabbitMQ. Run the command below to download a compressed file containing the helm binaries to the `/tmp` directory. \n",
    "- Then check the size and permissions of the downloaded file. "
   ]
  },
  {
   "cell_type": "code",
   "execution_count": null,
   "id": "f3e84060-3181-4b5b-9d7f-db04f5b72fb2",
   "metadata": {
    "tags": [],
    "vscode": {
     "languageId": "shellscript"
    }
   },
   "outputs": [],
   "source": [
    "curl https://get.helm.sh/helm-v3.13.2-linux-amd64.tar.gz -o /tmp/helm-v3.13.2-linux-amd64.tar.gz\n",
    "ls -lh /tmp/helm-v3.13.2-linux-amd64.tar.gz\n",
    "echo DONE"
   ]
  },
  {
   "cell_type": "markdown",
   "id": "8bf0528d-ccdd-41dd-ba01-957d2ad564d5",
   "metadata": {},
   "source": [
    "# Make user local bin directory and user local optional helm directory\n",
    "- Make two new user directories. One for for storing local binary executable files, and one to store the helm application. \n",
    "- Then check that the two directories exist. "
   ]
  },
  {
   "cell_type": "code",
   "execution_count": null,
   "id": "b198a292-7a53-4b23-b000-58d97f41d1bc",
   "metadata": {
    "tags": [],
    "vscode": {
     "languageId": "shellscript"
    }
   },
   "outputs": [],
   "source": [
    "mkdir -p ~/.local/bin/ ~/.local/opt/helm/\n",
    "ls -ld ~/.local/bin/ ~/.local/opt/helm/\n",
    "echo DONE"
   ]
  },
  {
   "cell_type": "markdown",
   "id": "937f96b3-43ee-482e-83bd-d3458c204b28",
   "metadata": {},
   "source": [
    "## Extract the helm binary\n",
    "- Extract the contents of the helm compressed file to the helm directory for optional local user applications. \n",
    "- Check that the helm executable, license, and readme are all extracted in the right directory. "
   ]
  },
  {
   "cell_type": "code",
   "execution_count": null,
   "id": "e905890a-fcec-4dbe-92b3-cc4faa78e225",
   "metadata": {
    "tags": [],
    "vscode": {
     "languageId": "shellscript"
    }
   },
   "outputs": [],
   "source": [
    "tar xvf /tmp/helm-v3.13.2-linux-amd64.tar.gz --strip-components=1 -C ~/.local/opt/helm/\n",
    "ls -l ~/.local/opt/helm/\n",
    "echo DONE"
   ]
  },
  {
   "cell_type": "markdown",
   "id": "b3c590e9-af84-41c0-8683-6ee5cbc85d37",
   "metadata": {},
   "source": [
    "## Copy the helm binary into the $PATH\n",
    "- Copy the `helm` binary from the user local optional helm application directory to the user local bin directory. \n",
    "- Check with the `which` command that the `helm` binary is available in the `$PATH` to be run in the terminal. "
   ]
  },
  {
   "cell_type": "code",
   "execution_count": null,
   "id": "8d652420-7beb-45c6-9a87-1f67259d4c83",
   "metadata": {
    "tags": [],
    "vscode": {
     "languageId": "shellscript"
    }
   },
   "outputs": [],
   "source": [
    "cp ~/.local/opt/helm/helm ~/.local/bin/\n",
    "which helm\n",
    "echo DONE"
   ]
  },
  {
   "cell_type": "markdown",
   "id": "c9676290-8b6d-4bd2-a4fc-1e41e315bde8",
   "metadata": {},
   "source": [
    "# Install prerequisite Ansible automation tools\n",
    "\n",
    "## Install prerequisite Python packages for Ansible\n",
    "\n",
    "Whenever I install Ansible, I find there are some required Python dependencies. Install the `setuptools_rust` and `wheel` Python dependencies below. "
   ]
  },
  {
   "cell_type": "code",
   "execution_count": null,
   "id": "10cd55a2-6f6b-4884-a588-81f4e1892907",
   "metadata": {
    "vscode": {
     "languageId": "shellscript"
    }
   },
   "outputs": [],
   "source": [
    "pip install setuptools_rust wheel\n",
    "echo DONE"
   ]
  },
  {
   "cell_type": "markdown",
   "id": "760ea4b4-cf87-4b5e-b444-d8eb6eb31998",
   "metadata": {},
   "source": [
    "## Upgrade pip the python package manager\n",
    "\n",
    "Next upgrade pip, the python package manager for the latest python package support. "
   ]
  },
  {
   "cell_type": "code",
   "execution_count": null,
   "id": "6ab39079-cfd5-4cfb-82cc-c7a2042f22c1",
   "metadata": {
    "vscode": {
     "languageId": "shellscript"
    }
   },
   "outputs": [],
   "source": [
    "pip install --upgrade pip\n",
    "echo DONE"
   ]
  },
  {
   "cell_type": "markdown",
   "id": "61df1913-fdb8-4c7c-8d3e-950da7af5c60",
   "metadata": {
    "tags": []
   },
   "source": [
    "## Install Ansible automation tools\n",
    "Ansible is the enterprise open source standard tool for automating everything on the computer. In my opinion, if you are automating your computers and cloud environments without Ansible, you are doing it wrong. Install the latest ansible software with python pip, as well as other important python dependencies like `kubernetes`, `openshift`, and `jmespath` which are required to automate OpenShift deployments. Then check that the `ansible-playbook` command is available to run. "
   ]
  },
  {
   "cell_type": "code",
   "execution_count": null,
   "id": "36d8214a-63d3-49fa-8849-6edc367a8941",
   "metadata": {
    "vscode": {
     "languageId": "shellscript"
    }
   },
   "outputs": [],
   "source": [
    "pip install ansible kubernetes openshift jmespath pika --upgrade\n",
    "which ansible-playbook\n",
    "echo DONE"
   ]
  },
  {
   "cell_type": "markdown",
   "id": "05c988e0-418e-47d6-93c7-1253d158c044",
   "metadata": {
    "tags": []
   },
   "source": [
    "## Next...\n",
    "If you have successfully ran all of the commands above, congratulations, you are ready to move on to the next notebook in the course. \n",
    "- If you have additional questions or issues, please [create an issue for the course here](https://github.com/smartabyar-smartvillage/smartabyar-smartvillage-nerc-course/issues). \n",
    "- Otherwise, please continue to the next notebook [02-deploy-microservices.ipynb](02-deploy-microservices.ipynb). \n"
   ]
  },
  {
   "cell_type": "code",
   "execution_count": null,
   "id": "9da64851-bdaf-41e5-9fbd-6e9aa48b1d96",
   "metadata": {
    "vscode": {
     "languageId": "shellscript"
    }
   },
   "outputs": [],
   "source": []
  }
 ],
 "metadata": {
  "kernelspec": {
   "display_name": "Bash",
   "language": "bash",
   "name": "bash"
  },
  "language_info": {
   "codemirror_mode": "shell",
   "file_extension": ".sh",
   "mimetype": "text/x-sh",
   "name": "bash"
  }
 },
 "nbformat": 4,
 "nbformat_minor": 5
}
